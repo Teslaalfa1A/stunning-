{
  "nbformat": 4,
  "nbformat_minor": 0,
  "metadata": {
    "colab": {
      "provenance": [],
      "authorship_tag": "ABX9TyNwdxdRrno5ygQKRujvLJcW",
      "include_colab_link": true
    },
    "kernelspec": {
      "name": "python3",
      "display_name": "Python 3"
    },
    "language_info": {
      "name": "python"
    }
  },
  "cells": [
    {
      "cell_type": "markdown",
      "metadata": {
        "id": "view-in-github",
        "colab_type": "text"
      },
      "source": [
        "<a href=\"https://colab.research.google.com/github/Teslaalfa1A/stunning-/blob/main/enviar%20relat%C3%B3rio%20de%20c%C3%B3digo.ipynb\" target=\"_parent\"><img src=\"https://colab.research.google.com/assets/colab-badge.svg\" alt=\"Open In Colab\"/></a>"
      ]
    },
    {
      "cell_type": "code",
      "execution_count": null,
      "metadata": {
        "id": "qfosDG_HjCsz"
      },
      "outputs": [],
      "source": []
    },
    {
      "cell_type": "code",
      "source": [
        "!pip install schedule"
      ],
      "metadata": {
        "colab": {
          "base_uri": "https://localhost:8080/"
        },
        "id": "FJhvaYu2jEw4",
        "outputId": "f50cda5b-dbbf-48d2-aa96-0616893f1f38"
      },
      "execution_count": 1,
      "outputs": [
        {
          "output_type": "stream",
          "name": "stdout",
          "text": [
            "Collecting schedule\n",
            "  Downloading schedule-1.2.2-py3-none-any.whl (12 kB)\n",
            "Installing collected packages: schedule\n",
            "Successfully installed schedule-1.2.2\n"
          ]
        }
      ]
    },
    {
      "cell_type": "code",
      "source": [
        "import smtplib\n",
        "from email.mime.multipart import MIMEMultipart\n",
        "from email.mime.text import MIMEText\n",
        "from email.mime.application import MIMEApplication\n",
        "import schedule\n",
        "import time\n",
        "import os\n",
        "\n",
        "# Configurações do e-mail\n",
        "EMAIL_HOST = 'smtp.gmail.com'  # Substitua pelo servidor SMTP do seu provedor de e-mail\n",
        "EMAIL_PORT = 587  # Porta do servidor SMTP (geralmente 587 para TLS ou 465 para SSL)\n",
        "EMAIL_ADDRESS = 'nelsonccnetoba@gmail.com'\n",
        "EMAIL_PASSWORD = ''\n",
        "\n",
        "# Destinatários\n",
        "RECIPIENTS = ['nelsonccnetoba@gmail.com']\n",
        "\n",
        "# Função para criar o e-mail\n",
        "def create_email(subject, body, attachment_path=None):\n",
        "    msg = MIMEMultipart()\n",
        "    msg['From'] = EMAIL_ADDRESS\n",
        "    msg['To'] = \", \".join(RECIPIENTS)\n",
        "    msg['Subject'] = subject\n",
        "\n",
        "    # Corpo do e-mail\n",
        "    msg.attach(MIMEText(body, 'plain'))\n",
        "\n",
        "    # Anexo\n",
        "    if attachment_path and os.path.isfile(attachment_path):\n",
        "        with open(attachment_path, 'rb') as attachment:\n",
        "            part = MIMEApplication(attachment.read(), Name=os.path.basename(attachment_path))\n",
        "        part['Content-Disposition'] = f'attachment; filename=\"{os.path.basename(attachment_path)}\"'\n",
        "        msg.attach(part)\n",
        "\n",
        "    return msg\n",
        "\n",
        "# Função para enviar o e-mail\n",
        "def send_email(subject, body, attachment_path=None):\n",
        "    try:\n",
        "        server = smtplib.SMTP(EMAIL_HOST, EMAIL_PORT)\n",
        "        server.starttls()\n",
        "        server.login(EMAIL_ADDRESS, EMAIL_PASSWORD)\n",
        "        msg = create_email(subject, body, attachment_path)\n",
        "        server.sendmail(EMAIL_ADDRESS, RECIPIENTS, msg.as_string())\n",
        "        server.quit()\n",
        "        print(\"E-mail enviado com sucesso!\")\n",
        "    except Exception as e:\n",
        "        print(f\"Falha ao enviar o e-mail: {e}\")\n",
        "\n",
        "# Função para gerar e enviar o relatório diário\n",
        "def send_daily_report():\n",
        "    # Aqui você pode gerar o conteúdo do relatório\n",
        "    report_subject = \"Relatório Diário\"\n",
        "    report_body = \"Aqui está o seu relatório diário.\"\n",
        "    report_attachment = \"/path/to/your/report.pdf\"  # Substitua pelo caminho do seu relatório\n",
        "\n",
        "    send_email(report_subject, report_body, report_attachment)\n",
        "\n",
        "# Agendar o envio diário\n",
        "schedule.every().day.at(\"08:00\").do(send_daily_report) # Define para enviar todo dia às 08:00\n",
        "\n",
        "# Loop para manter o script rodando\n",
        "while True:\n",
        "    schedule.run_pending()\n",
        "    time.sleep(1)\n"
      ],
      "metadata": {
        "colab": {
          "base_uri": "https://localhost:8080/",
          "height": 176
        },
        "id": "3zYVk7YZjOG8",
        "outputId": "8b5dbc72-f25e-4488-8a99-3f2bcb41d904"
      },
      "execution_count": 4,
      "outputs": [
        {
          "output_type": "error",
          "ename": "KeyboardInterrupt",
          "evalue": "",
          "traceback": [
            "\u001b[0;31m---------------------------------------------------------------------------\u001b[0m",
            "\u001b[0;31mKeyboardInterrupt\u001b[0m                         Traceback (most recent call last)",
            "\u001b[0;32m<ipython-input-4-82a0ef624485>\u001b[0m in \u001b[0;36m<cell line: 63>\u001b[0;34m()\u001b[0m\n\u001b[1;32m     63\u001b[0m \u001b[0;32mwhile\u001b[0m \u001b[0;32mTrue\u001b[0m\u001b[0;34m:\u001b[0m\u001b[0;34m\u001b[0m\u001b[0;34m\u001b[0m\u001b[0m\n\u001b[1;32m     64\u001b[0m     \u001b[0mschedule\u001b[0m\u001b[0;34m.\u001b[0m\u001b[0mrun_pending\u001b[0m\u001b[0;34m(\u001b[0m\u001b[0;34m)\u001b[0m\u001b[0;34m\u001b[0m\u001b[0;34m\u001b[0m\u001b[0m\n\u001b[0;32m---> 65\u001b[0;31m     \u001b[0mtime\u001b[0m\u001b[0;34m.\u001b[0m\u001b[0msleep\u001b[0m\u001b[0;34m(\u001b[0m\u001b[0;36m1\u001b[0m\u001b[0;34m)\u001b[0m\u001b[0;34m\u001b[0m\u001b[0;34m\u001b[0m\u001b[0m\n\u001b[0m",
            "\u001b[0;31mKeyboardInterrupt\u001b[0m: "
          ]
        }
      ]
    }
  ]
}